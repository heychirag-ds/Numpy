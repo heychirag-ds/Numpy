{
 "cells": [
  {
   "cell_type": "code",
   "execution_count": 3,
   "id": "1bd80a04-8269-4c1a-8a48-def5e8d34643",
   "metadata": {},
   "outputs": [
    {
     "name": "stdout",
     "output_type": "stream",
     "text": [
      "Python list addition time: 0.040091753005981445\n",
      "NumPy array addition time: 0.012950420379638672\n"
     ]
    }
   ],
   "source": [
    "import numpy as np\n",
    "import time\n",
    "\n",
    "#Python List\n",
    "size = 1_000_000\n",
    "list1 = list(range(size))\n",
    "list2 = list(range(size))\n",
    "\n",
    "start = time.time()\n",
    "\n",
    "result = [x + y for x, y in zip(list1, list2)]\n",
    "\n",
    "end = time.time()\n",
    "\n",
    "print(\"Python list addition time:\", end - start)\n",
    "\n",
    "# NumPy array\n",
    "arr1 = np.array(list1)\n",
    "arr2 = np.array(list2)\\\n",
    "\n",
    "start = time.time()\n",
    "result = arr1 + arr2\n",
    "\n",
    "end = time.time()\n",
    "print(\"NumPy array addition time:\", end - start)"
   ]
  },
  {
   "cell_type": "code",
   "execution_count": null,
   "id": "2d50999c-b5f8-4ede-9d92-8bd3db76183f",
   "metadata": {},
   "outputs": [],
   "source": []
  }
 ],
 "metadata": {
  "kernelspec": {
   "display_name": "Python 3 (ipykernel)",
   "language": "python",
   "name": "python3"
  },
  "language_info": {
   "codemirror_mode": {
    "name": "ipython",
    "version": 3
   },
   "file_extension": ".py",
   "mimetype": "text/x-python",
   "name": "python",
   "nbconvert_exporter": "python",
   "pygments_lexer": "ipython3",
   "version": "3.11.7"
  }
 },
 "nbformat": 4,
 "nbformat_minor": 5
}
