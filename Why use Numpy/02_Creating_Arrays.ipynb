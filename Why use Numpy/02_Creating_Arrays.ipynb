{
 "cells": [
  {
   "cell_type": "code",
   "execution_count": 6,
   "id": "6d55d49c-9e02-4753-85a1-6abcf92d2637",
   "metadata": {},
   "outputs": [
    {
     "name": "stdout",
     "output_type": "stream",
     "text": [
      "Creating a 1D Array: [1 2 3 4]\n",
      "Creating a 2D Array:\n",
      " [[1 2 3]\n",
      " [4 5 6]]\n",
      "Type: <class 'numpy.ndarray'>\n",
      "Shape of arr1: (4,)\n",
      "Shape of arr2: (2, 3)\n"
     ]
    }
   ],
   "source": [
    "import numpy as np\n",
    "\n",
    "#Creating a 1d Array\n",
    "arr1 = np.array([1,2,3,4])\n",
    "print(\"Creating a 1D Array:\", arr1)\n",
    "\n",
    "#Creating a 2D Array\n",
    "arr2 = np.array([[1, 2, 3], [4, 5, 6]])\n",
    "print(\"Creating a 2D Array:\\n\",arr2)\n",
    "\n",
    "# Checking type and shape\n",
    "print(\"Type:\", type(arr1))\n",
    "print(\"Shape of arr1:\", arr1.shape)\n",
    "print(\"Shape of arr2:\", arr2.shape)"
   ]
  }
 ],
 "metadata": {
  "kernelspec": {
   "display_name": "Python 3 (ipykernel)",
   "language": "python",
   "name": "python3"
  },
  "language_info": {
   "codemirror_mode": {
    "name": "ipython",
    "version": 3
   },
   "file_extension": ".py",
   "mimetype": "text/x-python",
   "name": "python",
   "nbconvert_exporter": "python",
   "pygments_lexer": "ipython3",
   "version": "3.11.7"
  }
 },
 "nbformat": 4,
 "nbformat_minor": 5
}
