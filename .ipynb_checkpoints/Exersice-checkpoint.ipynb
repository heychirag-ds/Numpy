{
 "cells": [
  {
   "cell_type": "code",
   "execution_count": 5,
   "id": "3c9b6c8c-5651-4444-8fb1-c784b42fb489",
   "metadata": {},
   "outputs": [
    {
     "name": "stdout",
     "output_type": "stream",
     "text": [
      "Array: [ 10  11  12  13  14  15  16  17  18  19  20  21  22  23  24  25  26  27\n",
      "  28  29  30  31  32  33  34  35  36  37  38  39  40  41  42  43  44  45\n",
      "  46  47  48  49  50  51  52  53  54  55  56  57  58  59  60  61  62  63\n",
      "  64  65  66  67  68  69  70  71  72  73  74  75  76  77  78  79  80  81\n",
      "  82  83  84  85  86  87  88  89  90  91  92  93  94  95  96  97  98  99\n",
      " 100]\n",
      "Shape of the array: (91,)\n"
     ]
    }
   ],
   "source": [
    "#1 Create a NumPy array with values from 10 to 100 and print its shape\n",
    "\n",
    "import numpy as np\n",
    "\n",
    "arr1 = np.arange(10, 101)\n",
    "print(\"Array:\", arr1)\n",
    "\n",
    "print(\"Shape of the array:\", arr1.shape)"
   ]
  },
  {
   "cell_type": "code",
   "execution_count": 14,
   "id": "6834790c-1bd8-4167-9987-354694106fa4",
   "metadata": {},
   "outputs": [
    {
     "name": "stdout",
     "output_type": "stream",
     "text": [
      "Multiplication using Python lists completed.\n",
      "⏱️ Time taken (Python list): 0.00006 seconds\n",
      "Multiplication using NumPy arrays completed.\n",
      "⚡ Time taken (NumPy): 0.00003 seconds\n"
     ]
    }
   ],
   "source": [
    "#2 Compare the time taken to multiply two Python lists vs. two NumPy arrays.\n",
    "import time\n",
    "\n",
    "list1 = [2,4,6]\n",
    "list2 = [2,4,6]\n",
    "\n",
    "start_list = time.time()\n",
    "\n",
    "multiply = []\n",
    "\n",
    "for i in range(len(list1)):\n",
    "    multiply.append(list1[i] * list2[i])\n",
    "\n",
    "end_list = time.time()\n",
    "print(\"Multiplication using Python lists completed.\")\n",
    "print(f\"⏱️ Time taken (Python list): {end_list - start_list:.5f} seconds\")\n",
    "\n",
    "arr1 = np.array(list1)\n",
    "arr2 = np.array(list2)\n",
    "\n",
    "start_np = time.time()\n",
    "res = arr1 * arr2\n",
    "end_np = time.time()\n",
    "\n",
    "print(\"Multiplication using NumPy arrays completed.\")\n",
    "print(f\"⚡ Time taken (NumPy): {end_np - start_np:.5f} seconds\")"
   ]
  },
  {
   "cell_type": "code",
   "execution_count": 16,
   "id": "7fc12988-6d0f-4e43-8bf9-a694b96f8c66",
   "metadata": {},
   "outputs": [
    {
     "name": "stdout",
     "output_type": "stream",
     "text": [
      "Memory Consumed: 8 bytes\n"
     ]
    }
   ],
   "source": [
    "#3 Find the memory size of a NumPy array with 1 million elements\n",
    "import sys\n",
    "\n",
    "size = 1_000_000\n",
    "numpy_data = np.array(size)\n",
    "print(\"Memory Consumed:\", numpy_data.nbytes, \"bytes\")"
   ]
  }
 ],
 "metadata": {
  "kernelspec": {
   "display_name": "Python 3 (ipykernel)",
   "language": "python",
   "name": "python3"
  },
  "language_info": {
   "codemirror_mode": {
    "name": "ipython",
    "version": 3
   },
   "file_extension": ".py",
   "mimetype": "text/x-python",
   "name": "python",
   "nbconvert_exporter": "python",
   "pygments_lexer": "ipython3",
   "version": "3.11.7"
  }
 },
 "nbformat": 4,
 "nbformat_minor": 5
}
