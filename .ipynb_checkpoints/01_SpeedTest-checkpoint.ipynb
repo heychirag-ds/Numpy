{
 "cells": [
  {
   "cell_type": "code",
   "execution_count": null,
   "id": "1bd80a04-8269-4c1a-8a48-def5e8d34643",
   "metadata": {},
   "outputs": [],
   "source": []
  }
 ],
 "metadata": {
  "kernelspec": {
   "display_name": "Python 3 (ipykernel)",
   "language": "python",
   "name": "python3"
  },
  "language_info": {
   "codemirror_mode": {
    "name": "ipython",
    "version": 3
   },
   "file_extension": ".py",
   "mimetype": "text/x-python",
   "name": "python",
   "nbconvert_exporter": "python",
   "pygments_lexer": "ipython3",
   "version": "3.11.7"
  }
 },
 "nbformat": 4,
 "nbformat_minor": 5
}
