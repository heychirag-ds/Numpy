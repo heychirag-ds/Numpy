{
 "cells": [
  {
   "cell_type": "code",
   "execution_count": 14,
   "id": "2d54e60f-e51b-423b-8886-8004a9e67ec3",
   "metadata": {},
   "outputs": [],
   "source": [
    "import numpy as np\n",
    "\n",
    "arr = np.array([1,2,3,4,5,6])\n",
    "arr2 = np.array([8,9,10,11,12])"
   ]
  },
  {
   "cell_type": "code",
   "execution_count": 2,
   "id": "3a0c137c-ac2b-4117-ae31-232e0f130ed2",
   "metadata": {},
   "outputs": [
    {
     "data": {
      "text/plain": [
       "3.5"
      ]
     },
     "execution_count": 2,
     "metadata": {},
     "output_type": "execute_result"
    }
   ],
   "source": [
    "np.mean(arr) #Compute the mean (average) of an array."
   ]
  },
  {
   "cell_type": "code",
   "execution_count": 3,
   "id": "eee8331c-5a7a-4fbe-8ca9-1970e86aa5f4",
   "metadata": {},
   "outputs": [
    {
     "data": {
      "text/plain": [
       "1.707825127659933"
      ]
     },
     "execution_count": 3,
     "metadata": {},
     "output_type": "execute_result"
    }
   ],
   "source": [
    "np.std(arr) #Compute the standard deviation of an array."
   ]
  },
  {
   "cell_type": "code",
   "execution_count": 4,
   "id": "1b4bcf7f-74df-4c3f-8e72-dc3bce649e89",
   "metadata": {},
   "outputs": [
    {
     "data": {
      "text/plain": [
       "2.9166666666666665"
      ]
     },
     "execution_count": 4,
     "metadata": {},
     "output_type": "execute_result"
    }
   ],
   "source": [
    "np.var(arr) # Compute the variance of an array."
   ]
  },
  {
   "cell_type": "code",
   "execution_count": 5,
   "id": "1e259d43-70f8-4c86-b8ad-45e3ed44c160",
   "metadata": {},
   "outputs": [
    {
     "data": {
      "text/plain": [
       "1"
      ]
     },
     "execution_count": 5,
     "metadata": {},
     "output_type": "execute_result"
    }
   ],
   "source": [
    "np.min(arr) #Compute the minimum value of an array."
   ]
  },
  {
   "cell_type": "code",
   "execution_count": 6,
   "id": "6f1e2938-2b36-43ac-87c0-e1ebb4c169d6",
   "metadata": {},
   "outputs": [
    {
     "data": {
      "text/plain": [
       "6"
      ]
     },
     "execution_count": 6,
     "metadata": {},
     "output_type": "execute_result"
    }
   ],
   "source": [
    "np.max(arr) #Compute the maximum value of an array."
   ]
  },
  {
   "cell_type": "code",
   "execution_count": 7,
   "id": "c08cfe3a-3d5e-49e5-8eb2-671b86fbee28",
   "metadata": {},
   "outputs": [
    {
     "data": {
      "text/plain": [
       "21"
      ]
     },
     "execution_count": 7,
     "metadata": {},
     "output_type": "execute_result"
    }
   ],
   "source": [
    "np.sum(arr) #Compute the sum of all elements in an array."
   ]
  },
  {
   "cell_type": "code",
   "execution_count": 8,
   "id": "22a19f5f-b031-47fe-a326-67d86aba1cfb",
   "metadata": {},
   "outputs": [
    {
     "data": {
      "text/plain": [
       "720"
      ]
     },
     "execution_count": 8,
     "metadata": {},
     "output_type": "execute_result"
    }
   ],
   "source": [
    "np.prod(arr) #Compute the product of all elements in an array."
   ]
  },
  {
   "cell_type": "code",
   "execution_count": 9,
   "id": "a52ee0e4-f9f8-4743-a26a-61314cac7dc9",
   "metadata": {},
   "outputs": [
    {
     "data": {
      "text/plain": [
       "3.5"
      ]
     },
     "execution_count": 9,
     "metadata": {},
     "output_type": "execute_result"
    }
   ],
   "source": [
    "np.median(arr) #Compute the median of an array."
   ]
  },
  {
   "cell_type": "code",
   "execution_count": 11,
   "id": "02734add-e429-4d96-b2a5-d5d44140878f",
   "metadata": {},
   "outputs": [
    {
     "data": {
      "text/plain": [
       "3.5"
      ]
     },
     "execution_count": 11,
     "metadata": {},
     "output_type": "execute_result"
    }
   ],
   "source": [
    "np.percentile(arr, 50) #Compute the percentile of an array."
   ]
  },
  {
   "cell_type": "code",
   "execution_count": 12,
   "id": "e8235de7-9251-4348-90de-3fca0bc2168e",
   "metadata": {},
   "outputs": [
    {
     "data": {
      "text/plain": [
       "0"
      ]
     },
     "execution_count": 12,
     "metadata": {},
     "output_type": "execute_result"
    }
   ],
   "source": [
    "np.argmin(arr) #Return the index of the minimum value in an array."
   ]
  },
  {
   "cell_type": "code",
   "execution_count": 13,
   "id": "25320306-028d-40fc-883e-b5ffc62a45c9",
   "metadata": {},
   "outputs": [
    {
     "data": {
      "text/plain": [
       "5"
      ]
     },
     "execution_count": 13,
     "metadata": {},
     "output_type": "execute_result"
    }
   ],
   "source": [
    "np.argmax(arr) #Return the index of the maximum value in an array."
   ]
  }
 ],
 "metadata": {
  "kernelspec": {
   "display_name": "Python 3 (ipykernel)",
   "language": "python",
   "name": "python3"
  },
  "language_info": {
   "codemirror_mode": {
    "name": "ipython",
    "version": 3
   },
   "file_extension": ".py",
   "mimetype": "text/x-python",
   "name": "python",
   "nbconvert_exporter": "python",
   "pygments_lexer": "ipython3",
   "version": "3.11.7"
  }
 },
 "nbformat": 4,
 "nbformat_minor": 5
}
