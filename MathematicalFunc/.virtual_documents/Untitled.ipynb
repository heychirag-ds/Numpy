import numpy as np

arr = np.array([1,2,3,4,5,6])
arr2 = np.array([8,9,10,11,12])


np.mean(arr) #Compute the mean (average) of an array.


np.std(arr) #Compute the standard deviation of an array.


np.var(arr) # Compute the variance of an array.


np.min(arr) #Compute the minimum value of an array.


np.max(arr) #Compute the maximum value of an array.


np.sum(arr) #Compute the sum of all elements in an array.


np.prod(arr) #Compute the product of all elements in an array.


np.median(arr) #Compute the median of an array.


np.percentile(arr, 50) #Compute the percentile of an array.


np.argmin(arr) #Return the index of the minimum value in an array.


np.argmax(arr) #Return the index of the maximum value in an array.
