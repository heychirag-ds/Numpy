#1 Create a NumPy array with values from 10 to 100 and print its shape

import numpy as np

arr1 = np.arange(10, 101)
print("Array:", arr1)

print("Shape of the array:", arr1.shape)


#2 Compare the time taken to multiply two Python lists vs. two NumPy arrays.
import time

list1 = [2,4,6]
list2 = [2,4,6]

start_list = time.time()

multiply = []

for i in range(len(list1)):
    multiply.append(list1[i] * list2[i])

end_list = time.time()
print("Multiplication using Python lists completed.")
print(f"⏱️ Time taken (Python list): {end_list - start_list:.5f} seconds")

arr1 = np.array(list1)
arr2 = np.array(list2)

start_np = time.time()
res = arr1 * arr2
end_np = time.time()

print("Multiplication using NumPy arrays completed.")
print(f"⚡ Time taken (NumPy): {end_np - start_np:.5f} seconds")


#3 Find the memory size of a NumPy array with 1 million elements
import sys

size = 1_000_000
numpy_data = np.array(size)
print("Memory Consumed:", numpy_data.nbytes, "bytes")
