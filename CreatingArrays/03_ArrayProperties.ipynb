{
 "cells": [
  {
   "cell_type": "code",
   "execution_count": 1,
   "id": "226d18d2-86f3-4b5c-a153-2e218e980b18",
   "metadata": {},
   "outputs": [],
   "source": [
    "import numpy as np"
   ]
  },
  {
   "cell_type": "code",
   "execution_count": 3,
   "id": "734f73ac-4cf0-49bd-b33e-013cc46d6e26",
   "metadata": {},
   "outputs": [],
   "source": [
    "arr = np.array([[10,20,30], [40,50,60]])"
   ]
  },
  {
   "cell_type": "code",
   "execution_count": 5,
   "id": "bb507375-fab9-4ada-af44-9d1f65dadfe4",
   "metadata": {},
   "outputs": [
    {
     "name": "stdout",
     "output_type": "stream",
     "text": [
      "Shape:  (2, 3)\n"
     ]
    }
   ],
   "source": [
    "print(\"Shape: \", arr.shape) # (2, 3) → 2 rows, 3 columns"
   ]
  },
  {
   "cell_type": "code",
   "execution_count": 6,
   "id": "869ab1a0-92b9-404c-816b-7f281da0330f",
   "metadata": {},
   "outputs": [
    {
     "name": "stdout",
     "output_type": "stream",
     "text": [
      "Size:  6\n"
     ]
    }
   ],
   "source": [
    "print(\"Size: \", arr.size) #6 -> total elements"
   ]
  },
  {
   "cell_type": "code",
   "execution_count": 7,
   "id": "4d7a0fc7-6f4b-4aca-9ec0-03de310d2534",
   "metadata": {},
   "outputs": [
    {
     "name": "stdout",
     "output_type": "stream",
     "text": [
      "Dimensions:  2\n"
     ]
    }
   ],
   "source": [
    "print(\"Dimensions: \", arr.ndim) #2 -> 2D Array"
   ]
  },
  {
   "cell_type": "code",
   "execution_count": 9,
   "id": "09e5640f-a92f-4a34-ac69-0ba8de3cf331",
   "metadata": {},
   "outputs": [
    {
     "name": "stdout",
     "output_type": "stream",
     "text": [
      "Data Type:  int64\n"
     ]
    }
   ],
   "source": [
    "print(\"Data Type: \", arr.dtype) #int64"
   ]
  },
  {
   "cell_type": "code",
   "execution_count": 12,
   "id": "78b7d91d-f34f-495b-9e3b-04ac9b1d0960",
   "metadata": {},
   "outputs": [],
   "source": [
    "# \"NumPy arrays are strongly typed, meaning all elements share the same data type.\""
   ]
  }
 ],
 "metadata": {
  "kernelspec": {
   "display_name": "Python 3 (ipykernel)",
   "language": "python",
   "name": "python3"
  },
  "language_info": {
   "codemirror_mode": {
    "name": "ipython",
    "version": 3
   },
   "file_extension": ".py",
   "mimetype": "text/x-python",
   "name": "python",
   "nbconvert_exporter": "python",
   "pygments_lexer": "ipython3",
   "version": "3.11.7"
  }
 },
 "nbformat": 4,
 "nbformat_minor": 5
}
