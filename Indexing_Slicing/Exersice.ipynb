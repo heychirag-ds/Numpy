{
 "cells": [
  {
   "cell_type": "code",
   "execution_count": 1,
   "id": "21ce8d9f-9e08-48d5-995a-8be8c9156038",
   "metadata": {},
   "outputs": [
    {
     "name": "stdout",
     "output_type": "stream",
     "text": [
      "[[10 20 30]\n",
      " [40 50 60]\n",
      " [70 80 90]]\n",
      "Shape: (3, 3)\n"
     ]
    }
   ],
   "source": [
    "#Create a 3×3 array filled with random numbers and print its shape.\n",
    "import numpy as np\n",
    "\n",
    "arr = np.array([[10,20,30], [40,50,60],[70,80,90]])\n",
    "print(arr)\n",
    "print(\"Shape:\", arr.shape)"
   ]
  },
  {
   "cell_type": "code",
   "execution_count": 2,
   "id": "56db2cf2-3457-40de-95e0-d504c3af9a41",
   "metadata": {},
   "outputs": [
    {
     "name": "stdout",
     "output_type": "stream",
     "text": [
      "[1 2 3]\n"
     ]
    }
   ],
   "source": [
    "#Convert an array of floats [1.1, 2.2, 3.3] into integers.\n",
    "arr_float = np.array([1.1,2.2,3.3])\n",
    "arr_int = arr_float.astype(np.int32)\n",
    "print(arr_int)"
   ]
  },
  {
   "cell_type": "code",
   "execution_count": 4,
   "id": "4b6a90b6-dd1b-4111-b4b5-be3c05cb2c64",
   "metadata": {},
   "outputs": [
    {
     "name": "stdout",
     "output_type": "stream",
     "text": [
      "[2 4 6]\n"
     ]
    }
   ],
   "source": [
    "#Use fancy indexing to extract even numbers from [1, 2, 3, 4, 5, 6]\n",
    "\n",
    "arr3 = np.array([1,2,3,4,5,6])\n",
    "even_mask = arr3 % 2 == 0\n",
    "even_arr = arr3[even_mask]\n",
    "print(even_arr)"
   ]
  },
  {
   "cell_type": "code",
   "execution_count": 6,
   "id": "70f068a6-2a10-49a7-8164-7748a06cc1e1",
   "metadata": {},
   "outputs": [
    {
     "name": "stdout",
     "output_type": "stream",
     "text": [
      "[[1 2 3]\n",
      " [4 5 6]\n",
      " [7 8 9]]\n"
     ]
    }
   ],
   "source": [
    "#Reshape a 1D array of size 9 into a 3×3 matrix\n",
    "arr4 = np.array([1,2,3,4,5,6,7,8,9])\n",
    "re_arr4 = arr4.reshape((3,3))\n",
    "print(re_arr4)"
   ]
  },
  {
   "cell_type": "code",
   "execution_count": 7,
   "id": "0122403f-7be5-4064-a1a5-8a238a1fb5df",
   "metadata": {},
   "outputs": [
    {
     "name": "stdout",
     "output_type": "stream",
     "text": [
      "[60 70 80 90]\n"
     ]
    }
   ],
   "source": [
    "#Use boolean masking to filter numbers greater than 50 in an array.\n",
    "bool_mask = arr > 50\n",
    "print(arr[bool_mask])"
   ]
  }
 ],
 "metadata": {
  "kernelspec": {
   "display_name": "Python 3 (ipykernel)",
   "language": "python",
   "name": "python3"
  },
  "language_info": {
   "codemirror_mode": {
    "name": "ipython",
    "version": 3
   },
   "file_extension": ".py",
   "mimetype": "text/x-python",
   "name": "python",
   "nbconvert_exporter": "python",
   "pygments_lexer": "ipython3",
   "version": "3.11.7"
  }
 },
 "nbformat": 4,
 "nbformat_minor": 5
}
